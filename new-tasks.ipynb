{
 "cells": [
  {
   "cell_type": "code",
   "execution_count": 1,
   "metadata": {},
   "outputs": [],
   "source": [
    "import pandas as pd\n",
    "from plotnine import *"
   ]
  },
  {
   "cell_type": "markdown",
   "metadata": {},
   "source": [
    "Load the table \"ancientmetagenome-hostassociated_samples.tsv\" and name it `df`"
   ]
  },
  {
   "cell_type": "markdown",
   "metadata": {},
   "source": [
    "How many samples are there in total?"
   ]
  },
  {
   "cell_type": "markdown",
   "metadata": {},
   "source": [
    "Are there any missing values? If yes, where are they?"
   ]
  },
  {
   "cell_type": "markdown",
   "metadata": {},
   "source": [
    "How many unique sites are there?"
   ]
  },
  {
   "cell_type": "markdown",
   "metadata": {},
   "source": [
    "What site has the most samples?"
   ]
  },
  {
   "cell_type": "markdown",
   "metadata": {},
   "source": [
    "What are the smallest and highest sample ages?"
   ]
  },
  {
   "cell_type": "markdown",
   "metadata": {},
   "source": [
    "Subset the DataFrame with only samples published after 2018.\n",
    "\n",
    "(Only print it, don't apply that to the DataFrame)"
   ]
  },
  {
   "cell_type": "markdown",
   "metadata": {},
   "source": [
    "Create a bar plot using df.plot() with the amount of samples per sample_host with a logarithmic y axis.\n",
    "\n",
    "You might not be able to plot the DataFrame directly but need to calculate something else first."
   ]
  },
  {
   "cell_type": "markdown",
   "metadata": {},
   "source": [
    "Create using df.plot() a histogram of the sample ages with a logarithmic y axis.\n",
    "\n",
    "Try playing around with the amount of bins."
   ]
  },
  {
   "cell_type": "markdown",
   "metadata": {},
   "source": [
    "Create a scatterplot using plotnine with the following infos:\n",
    "- x = latitude of the sample\n",
    "- y = longitute of the sample\n",
    "- color = year of the sample"
   ]
  },
  {
   "cell_type": "markdown",
   "metadata": {},
   "source": [
    "Plot the \"geo_loc_name\" and \"sample_host\" as a heatmap in ggplot (geom_tile); type use this ggplot theme to plot the heatmap neatly.\n",
    "\n",
    "`theme(axis_text_x=element_text(angle=45, hjust=1, size=10),\n",
    "      axis_text_y=element_text(size=10),\n",
    "      axis_line=element_line(),\n",
    "      panel_border = element_rect(fill = None, color = \"black\", linewidth = 2),\n",
    "      strip_background = element_blank(),\n",
    "      panel_background = element_rect(fill = \"white\", colour = \"black\"),\n",
    "      plot_background = element_rect(fill = \"white\", colour = \"black\"),\n",
    "      figure_size=(16, 8))`"
   ]
  },
  {
   "cell_type": "markdown",
   "metadata": {},
   "source": [
    "**Quite Difficult**\n",
    "\n",
    "\n",
    "Show in a heatmap but now with the `fill=count of occurrence`;\n",
    "\n",
    "Hint: make a new DataFrame with `groupby(by=[\"geo_loc_name\",\"sample_host\"])`, `value.counts()`, and `reset_index(name=\"count\")`"
   ]
  },
  {
   "cell_type": "markdown",
   "metadata": {},
   "source": [
    "Now, load the second tsv (\"ancientmetagenome-hostassociated_libraries.tsv\") and name it `lib_df`"
   ]
  },
  {
   "cell_type": "markdown",
   "metadata": {},
   "source": [
    "Create a scatterplot using df.plot() where ..\n",
    "- x = library concentration\n",
    "- y = read count\n",
    "\n",
    "Both axes should be logarithmic!"
   ]
  },
  {
   "cell_type": "markdown",
   "metadata": {},
   "source": [
    "Create a stacked bar plot using plotnine with the following info:\n",
    "- x = publication year\n",
    "- y = count of instrument models\n",
    "\n",
    "The bars should be stacked, where each \"subbar\" represents an instrument"
   ]
  },
  {
   "cell_type": "markdown",
   "metadata": {},
   "source": [
    "How many single and double stranded samples are there, grouped by publication year? \n",
    "\n",
    "Hint: a bar chart can show this very nicely"
   ]
  }
 ],
 "metadata": {
  "kernelspec": {
   "display_name": "ipy",
   "language": "python",
   "name": "python3"
  },
  "language_info": {
   "codemirror_mode": {
    "name": "ipython",
    "version": 3
   },
   "file_extension": ".py",
   "mimetype": "text/x-python",
   "name": "python",
   "nbconvert_exporter": "python",
   "pygments_lexer": "ipython3",
   "version": "3.11.4"
  },
  "orig_nbformat": 4
 },
 "nbformat": 4,
 "nbformat_minor": 2
}
